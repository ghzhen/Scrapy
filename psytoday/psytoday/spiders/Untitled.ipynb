{
 "cells": [
  {
   "cell_type": "markdown",
   "metadata": {},
   "source": [
    "# -*- coding: utf-8 -*-\n",
    "import scrapy\n",
    "\n",
    "\n",
    "class SummarySpider(scrapy.Spider):\n",
    "    name = 'summary'\n",
    "    allowed_domains = ['https://therapists.psychologytoday.com/rms/prof_results.php?utm_source=PT_Psych_Today']\n",
    "    start_urls = ['http://https://therapists.psychologytoday.com/rms/prof_results.php?utm_source=PT_Psych_Today/']\n",
    "\n",
    "    def parse(self, response):\n",
    "        pass"
   ]
  },
  {
   "cell_type": "code",
   "execution_count": null,
   "metadata": {
    "collapsed": true
   },
   "outputs": [],
   "source": [
    "from scrapy import Request as Req\n",
    "url = 'https://therapists.psychologytoday.com/rms/prof_results.php?search=san%20diego' \n",
    "req = Req(url, headers={'User-Agent': 'Mozilla/5.0 (Macintosh; Intel Mac OSX 10_10_1) AppleWebKit/537.36 (KHTML, like Gecko) Chrome/39.0.2171.95 Safari/537.36'})\n",
    "fetch(req)\n",
    "view(response)\n",
    "\n",
    "response.xpath(\"//div[@class='hidden-xs result-actions']/a[@class='btn btn-gray btn-small']/@href\").extract()"
   ]
  },
  {
   "cell_type": "code",
   "execution_count": 13,
   "metadata": {
    "collapsed": false
   },
   "outputs": [
    {
     "data": {
      "text/plain": [
       "'Binghamton University--SUNY'"
      ]
     },
     "execution_count": 13,
     "metadata": {},
     "output_type": "execute_result"
    }
   ],
   "source": [
    "import re \n",
    "t = 'Binghamton University--SUNY - Department of Psychology'\n",
    "match = re.match('(.+) - .+',t)\n",
    "match.group(1)"
   ]
  }
 ],
 "metadata": {
  "anaconda-cloud": {},
  "kernelspec": {
   "display_name": "Python [conda root]",
   "language": "python",
   "name": "conda-root-py"
  },
  "language_info": {
   "codemirror_mode": {
    "name": "ipython",
    "version": 2
   },
   "file_extension": ".py",
   "mimetype": "text/x-python",
   "name": "python",
   "nbconvert_exporter": "python",
   "pygments_lexer": "ipython2",
   "version": "2.7.11"
  }
 },
 "nbformat": 4,
 "nbformat_minor": 0
}
